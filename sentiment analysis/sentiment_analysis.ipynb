{
  "nbformat": 4,
  "nbformat_minor": 0,
  "metadata": {
    "colab": {
      "provenance": []
    },
    "kernelspec": {
      "name": "python3",
      "display_name": "Python 3"
    },
    "language_info": {
      "name": "python"
    }
  },
  "cells": [
    {
      "cell_type": "markdown",
      "source": [
        "\n",
        "SENTIMENT ANALYSIS\n",
        "\n",
        "\n",
        "\n"
      ],
      "metadata": {
        "id": "mV5MH0F3tW6x"
      }
    },
    {
      "cell_type": "code",
      "execution_count": 2,
      "metadata": {
        "colab": {
          "base_uri": "https://localhost:8080/"
        },
        "id": "_lBfzNmXtUJ1",
        "outputId": "30ca6892-898f-492a-86b5-adf4717a7060"
      },
      "outputs": [
        {
          "output_type": "stream",
          "name": "stdout",
          "text": [
            "Index(['Unnamed: 0', 'reviewerName', 'overall', 'reviewText', 'reviewTime',\n",
            "       'day_diff', 'helpful_yes', 'helpful_no', 'total_vote',\n",
            "       'score_pos_neg_diff', 'score_average_rating', 'wilson_lower_bound'],\n",
            "      dtype='object')\n"
          ]
        }
      ],
      "source": [
        "import pandas as pd\n",
        "import numpy as np\n",
        "import re\n",
        "from sklearn.model_selection import train_test_split\n",
        "\n",
        "data = pd.read_csv('/content/sample_data/amazon_reviews.csv')\n",
        "print(data.columns)\n"
      ]
    },
    {
      "cell_type": "code",
      "source": [
        "\n",
        "data = data.drop(columns=[ 'reviewerName', 'reviewTime'])\n",
        "\n",
        "# Handle missing values\n",
        "data = data.dropna()\n",
        "\n",
        "\n",
        "def clean_text(text):\n",
        "    text = re.sub(r'[^a-zA-Z\\s]', '', text)  # Remove punctuation\n",
        "    text = text.lower()  # Convert to lowercase\n",
        "    return text\n",
        "\n",
        "data['reviewText'] = data['reviewText'].apply(clean_text)\n",
        "\n",
        "\n",
        "data['sentiment'] = np.where(data['overall'] > 3, 'positive', 'negative')\n",
        "\n",
        "# training and testing sets\n",
        "X = data['reviewText']\n",
        "y = data['sentiment']\n",
        "X_train, X_test, y_train, y_test = train_test_split(X, y, test_size=0.2, random_state=42)"
      ],
      "metadata": {
        "id": "Fk17P1AyxJfq"
      },
      "execution_count": 3,
      "outputs": []
    },
    {
      "cell_type": "markdown",
      "source": [
        "feature extraction"
      ],
      "metadata": {
        "id": "UifmNEKIwARd"
      }
    },
    {
      "cell_type": "code",
      "source": [
        "from sklearn.feature_extraction.text import TfidfVectorizer\n",
        "\n",
        "# Initialize TF-IDF Vectorizer\n",
        "vectorizer = TfidfVectorizer(max_features=5000)\n",
        "X_train_tfidf = vectorizer.fit_transform(X_train)\n",
        "X_test_tfidf = vectorizer.transform(X_test)"
      ],
      "metadata": {
        "id": "W5lmCAnUwCkT"
      },
      "execution_count": 4,
      "outputs": []
    },
    {
      "cell_type": "markdown",
      "source": [
        "model selection:\n",
        "logistic regression is used"
      ],
      "metadata": {
        "id": "CBNaSKDkwFxC"
      }
    },
    {
      "cell_type": "code",
      "source": [
        "from sklearn.linear_model import LogisticRegression\n",
        "from sklearn.metrics import classification_report, accuracy_score\n",
        "\n",
        "\n",
        "model = LogisticRegression()\n",
        "\n",
        "# Train\n",
        "model.fit(X_train_tfidf, y_train)\n",
        "\n",
        "# predictions\n",
        "y_pred = model.predict(X_test_tfidf)"
      ],
      "metadata": {
        "id": "KQZmNX1jwIzy"
      },
      "execution_count": 5,
      "outputs": []
    },
    {
      "cell_type": "code",
      "source": [
        "# Evaluate\n",
        "print(\"Accuracy:\", accuracy_score(y_test, y_pred))\n",
        "print(classification_report(y_test, y_pred))"
      ],
      "metadata": {
        "colab": {
          "base_uri": "https://localhost:8080/"
        },
        "id": "-wY9WMJYwUJ8",
        "outputId": "5fe2c3ae-f938-496b-a12d-51ec89c396f7"
      },
      "execution_count": 6,
      "outputs": [
        {
          "output_type": "stream",
          "name": "stdout",
          "text": [
            "Accuracy: 0.9328585961342828\n",
            "              precision    recall  f1-score   support\n",
            "\n",
            "    negative       0.92      0.26      0.40        86\n",
            "    positive       0.93      1.00      0.96       897\n",
            "\n",
            "    accuracy                           0.93       983\n",
            "   macro avg       0.92      0.63      0.68       983\n",
            "weighted avg       0.93      0.93      0.92       983\n",
            "\n"
          ]
        }
      ]
    }
  ]
}